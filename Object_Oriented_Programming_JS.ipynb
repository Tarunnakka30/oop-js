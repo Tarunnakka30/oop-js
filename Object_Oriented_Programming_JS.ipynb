{
  "nbformat": 4,
  "nbformat_minor": 0,
  "metadata": {
    "colab": {
      "provenance": [],
      "authorship_tag": "ABX9TyMC1kttAehuYxb6cKpw8+Uf",
      "include_colab_link": true
    },
    "kernelspec": {
      "name": "python3",
      "display_name": "Python 3"
    },
    "language_info": {
      "name": "python"
    }
  },
  "cells": [
    {
      "cell_type": "markdown",
      "metadata": {
        "id": "view-in-github",
        "colab_type": "text"
      },
      "source": [
        "<a href=\"https://colab.research.google.com/github/Tarunnakka30/oop-js/blob/main/Object_Oriented_Programming_JS.ipynb\" target=\"_parent\"><img src=\"https://colab.research.google.com/assets/colab-badge.svg\" alt=\"Open In Colab\"/></a>"
      ]
    },
    {
      "cell_type": "markdown",
      "source": [
        "# Create a Basic JavaScript Object\n",
        "Think about things people see every day, like cars, shops, and birds. These are all objects: tangible things people can observe and interact with.\n",
        "\n",
        "What are some qualities of these objects? A car has wheels. Shops sell items. Birds have wings.\n",
        "\n",
        "These qualities, or properties, define what makes up an object. Note that similar objects share the same properties, but may have different values for those properties. For example, all cars have wheels, but not all cars have the same number of wheels.\n",
        "\n",
        "Objects in JavaScript are used to model real-world objects, giving them properties and behavior just like their real-world counterparts. Here's an example using these concepts to create a duck object:"
      ],
      "metadata": {
        "id": "WsF5mW0pe80p"
      }
    },
    {
      "cell_type": "code",
      "source": [
        "let duck = {\n",
        "  name: \"Aflac\",\n",
        "  numLegs: 2\n",
        "};"
      ],
      "metadata": {
        "id": "gPH08jeDe_Lc"
      },
      "execution_count": null,
      "outputs": []
    },
    {
      "cell_type": "markdown",
      "source": [
        "This duck object has two property/value pairs: a name of Aflac and a numLegs of 2.\n",
        "\n",
        "Create a dog object with name and numLegs properties, and set them to a string and a number, respectively."
      ],
      "metadata": {
        "id": "pJ6JqAcBfAgD"
      }
    },
    {
      "cell_type": "code",
      "source": [
        "let dog = {\n",
        "  name: \"Jim\",\n",
        "  numLegs: 2\n",
        "};\n",
        "\n",
        "console.log(dog);\n",
        "\n",
        "// { name: 'Jim', numLegs: 2 }"
      ],
      "metadata": {
        "id": "BJITotLjfCBS"
      },
      "execution_count": null,
      "outputs": []
    },
    {
      "cell_type": "markdown",
      "source": [
        "# Use Dot Notation to Access the Properties of an Object\n",
        "The last challenge created an object with various properties. Now you'll see how to access the values of those properties. Here's an example:"
      ],
      "metadata": {
        "id": "Ec5m2ydxfJC1"
      }
    },
    {
      "cell_type": "code",
      "source": [
        "let duck = {\n",
        "  name: \"Aflac\",\n",
        "  numLegs: 2\n",
        "};\n",
        "console.log(duck.name);"
      ],
      "metadata": {
        "id": "SsXxGYanfWXr"
      },
      "execution_count": null,
      "outputs": []
    },
    {
      "cell_type": "markdown",
      "source": [
        "Dot notation is used on the object name, duck, followed by the name of the property, name, to access the value of Aflac.\n",
        "\n",
        "Print both properties of the dog object to your console."
      ],
      "metadata": {
        "id": "BhVj4nAWfZE6"
      }
    },
    {
      "cell_type": "code",
      "source": [
        "let dog = {\n",
        "  name: \"Spot\",\n",
        "  numLegs: 4\n",
        "};\n",
        "// Only change code below this line\n",
        "console.log(dog.name);\n",
        "\n",
        "// Spot"
      ],
      "metadata": {
        "id": "rv4SlFDQfZlc"
      },
      "execution_count": null,
      "outputs": []
    },
    {
      "cell_type": "markdown",
      "source": [
        "# Create a Method on an Object\n",
        "Objects can have a special type of property, called a method.\n",
        "\n",
        "Methods are properties that are functions. This adds different behavior to an object. Here is the duck example with a method:"
      ],
      "metadata": {
        "id": "tdSGUI04fcn3"
      }
    },
    {
      "cell_type": "code",
      "source": [
        "let duck = {\n",
        "  name: \"Aflac\",\n",
        "  numLegs: 2,\n",
        "  sayName: function() {return \"The name of this duck is \" + duck.name + \".\";}\n",
        "};\n",
        "duck.sayName();"
      ],
      "metadata": {
        "id": "GVGg5dntgEYK"
      },
      "execution_count": null,
      "outputs": []
    },
    {
      "cell_type": "markdown",
      "source": [
        "The example adds the sayName method, which is a function that returns a sentence giving the name of the duck. Notice that the method accessed the name property in the return statement using duck.name. The next challenge will cover another way to do this.\n",
        "\n",
        "Using the dog object, give it a method called sayLegs. The method should return the sentence This dog has 4 legs."
      ],
      "metadata": {
        "id": "JWZeWznjgGbw"
      }
    },
    {
      "cell_type": "code",
      "source": [
        "let dog = {\n",
        "  name: \"Spot\",\n",
        "  numLegs: 4,\n",
        "  sayLegs: function(){\n",
        "    return \"This dog has \"+dog.numLegs+\" legs.\"\n",
        "  }\n",
        "};\n",
        "\n",
        "console.log(dog.sayLegs());\n",
        "\n",
        "// This dog has 4 legs."
      ],
      "metadata": {
        "id": "zWL9yrNjgIYT"
      },
      "execution_count": null,
      "outputs": []
    },
    {
      "cell_type": "markdown",
      "source": [
        "# Make Code More Reusable with the this Keyword\n",
        "The last challenge introduced a method to the duck object. It used duck.name dot notation to access the value for the name property within the return statement:"
      ],
      "metadata": {
        "id": "l19ldoQXhaWN"
      }
    },
    {
      "cell_type": "code",
      "source": [
        "sayName: function() {return \"The name of this duck is \" + duck.name + \".\";}"
      ],
      "metadata": {
        "id": "4c3MVxtLhcXI"
      },
      "execution_count": null,
      "outputs": []
    },
    {
      "cell_type": "markdown",
      "source": [
        "While this is a valid way to access the object's property, there is a pitfall here. If the variable name changes, any code referencing the original name would need to be updated as well. In a short object definition, it isn't a problem, but if an object has many references to its properties there is a greater chance for error.\n",
        "\n",
        "A way to avoid these issues is with the this keyword:"
      ],
      "metadata": {
        "id": "Ds4XCzZlherm"
      }
    },
    {
      "cell_type": "code",
      "source": [
        "let duck = {\n",
        "  name: \"Aflac\",\n",
        "  numLegs: 2,\n",
        "  sayName: function() {return \"The name of this duck is \" + this.name + \".\";}\n",
        "};"
      ],
      "metadata": {
        "id": "skr5v6tBhgTj"
      },
      "execution_count": null,
      "outputs": []
    },
    {
      "cell_type": "markdown",
      "source": [
        "this is a deep topic, and the above example is only one way to use it. In the current context, this refers to the object that the method is associated with: duck. If the object's name is changed to mallard, it is not necessary to find all the references to duck in the code. It makes the code reusable and easier to read.\n",
        "\n",
        "Modify the dog.sayLegs method to remove any references to dog. Use the duck example for guidance."
      ],
      "metadata": {
        "id": "dKjauN2QhjY2"
      }
    },
    {
      "cell_type": "code",
      "source": [
        "let dog = {\n",
        "  name: \"Spot\",\n",
        "  numLegs: 4,\n",
        "  sayLegs: function() {return \"This dog has \" + this.numLegs + \" legs.\";}\n",
        "};\n",
        "\n",
        "console.log(dog.sayLegs());\n",
        "\n",
        "//\n",
        "This dog has 4 legs."
      ],
      "metadata": {
        "id": "lAeMkmughlYP"
      },
      "execution_count": null,
      "outputs": []
    },
    {
      "cell_type": "markdown",
      "source": [
        "# Define a Constructor Function\n",
        "Constructors are functions that create new objects. They define properties and behaviors that will belong to the new object. Think of them as a blueprint for the creation of new objects.\n",
        "\n",
        "Here is an example of a constructor:"
      ],
      "metadata": {
        "id": "EMSuPJFYiPto"
      }
    },
    {
      "cell_type": "code",
      "source": [
        "function Bird() {\n",
        "  this.name = \"Albert\";\n",
        "  this.color = \"blue\";\n",
        "  this.numLegs = 2;\n",
        "}"
      ],
      "metadata": {
        "id": "mhckx9nOiR5-"
      },
      "execution_count": null,
      "outputs": []
    },
    {
      "cell_type": "markdown",
      "source": [
        "This constructor defines a Bird object with properties name, color, and numLegs set to Albert, blue, and 2, respectively. Constructors follow a few conventions:\n",
        "\n",
        "Constructors are defined with a capitalized name to distinguish them from other functions that are not constructors.\n",
        "Constructors use the keyword this to set properties of the object they will create. Inside the constructor, this refers to the new object it will create.\n",
        "Constructors define properties and behaviors instead of returning a value as other functions might.\n",
        "\n",
        "Create a constructor, Dog, with properties name, color, and numLegs that are set to a string, a string, and a number, respectively."
      ],
      "metadata": {
        "id": "OgUWEBZSiUtA"
      }
    },
    {
      "cell_type": "code",
      "source": [
        "function Dog(){\n",
        "  this.name = \"Spot\";\n",
        "  this.color = \"black\";\n",
        "  this.numLegs = 4;\n",
        "}"
      ],
      "metadata": {
        "id": "bLSik8zQiVT4"
      },
      "execution_count": null,
      "outputs": []
    },
    {
      "cell_type": "markdown",
      "source": [
        "# Use a Constructor to Create Objects\n",
        "Here's the Bird constructor from the previous challenge:"
      ],
      "metadata": {
        "id": "auw8Rbuai034"
      }
    },
    {
      "cell_type": "code",
      "source": [
        "function Bird() {\n",
        "  this.name = \"Albert\";\n",
        "  this.color  = \"blue\";\n",
        "  this.numLegs = 2;\n",
        "}\n",
        "\n",
        "let blueBird = new Bird();"
      ],
      "metadata": {
        "id": "KRdMn51Xi3H6"
      },
      "execution_count": null,
      "outputs": []
    },
    {
      "cell_type": "markdown",
      "source": [
        "NOTE: this inside the constructor always refers to the object being created.\n",
        "\n",
        "Notice that the new operator is used when calling a constructor. This tells JavaScript to create a new instance of Bird called blueBird. Without the new operator, this inside the constructor would not point to the newly created object, giving unexpected results. Now blueBird has all the properties defined inside the Bird constructor:"
      ],
      "metadata": {
        "id": "5gC8qBlLi5xq"
      }
    },
    {
      "cell_type": "code",
      "source": [
        "blueBird.name;\n",
        "blueBird.color;\n",
        "blueBird.numLegs;"
      ],
      "metadata": {
        "id": "ln17fkjhi7yV"
      },
      "execution_count": null,
      "outputs": []
    },
    {
      "cell_type": "markdown",
      "source": [
        "Just like any other object, its properties can be accessed and modified:"
      ],
      "metadata": {
        "id": "MvKd9kX1i9PK"
      }
    },
    {
      "cell_type": "code",
      "source": [
        "blueBird.name = 'Elvira';\n",
        "blueBird.name;"
      ],
      "metadata": {
        "id": "XtyYnydni-lo"
      },
      "execution_count": null,
      "outputs": []
    },
    {
      "cell_type": "code",
      "source": [
        "function Dog() {\n",
        "  this.name = \"Rupert\";\n",
        "  this.color = \"brown\";\n",
        "  this.numLegs = 4;\n",
        "}"
      ],
      "metadata": {
        "id": "gJEnLiOEjBNT"
      },
      "execution_count": null,
      "outputs": []
    },
    {
      "cell_type": "markdown",
      "source": [
        "\n",
        "Use the Dog constructor from the last lesson to create a new instance of Dog, assigning it to a variable hound."
      ],
      "metadata": {
        "id": "aIWoVOQOjC7L"
      }
    },
    {
      "cell_type": "code",
      "source": [
        "function Dog() {\n",
        "  this.name = \"Rupert\";\n",
        "  this.color = \"brown\";\n",
        "  this.numLegs = 4;\n",
        "}\n",
        "\n",
        "let hound = new Dog();"
      ],
      "metadata": {
        "id": "WZTLQA9ijHdU"
      },
      "execution_count": null,
      "outputs": []
    },
    {
      "cell_type": "markdown",
      "source": [
        "# Extend Constructors to Receive Arguments\n",
        "The Bird and Dog constructors from the last challenge worked well. However, notice that all Birds that are created with the Bird constructor are automatically named Albert, are blue in color, and have two legs. What if you want birds with different values for name and color? It's possible to change the properties of each bird manually but that would be a lot of work:"
      ],
      "metadata": {
        "id": "seMShJkJkAm8"
      }
    },
    {
      "cell_type": "code",
      "source": [
        "let swan = new Bird();\n",
        "swan.name = \"Carlos\";\n",
        "swan.color = \"white\";"
      ],
      "metadata": {
        "id": "7nWsElTMkC8C"
      },
      "execution_count": null,
      "outputs": []
    },
    {
      "cell_type": "markdown",
      "source": [
        "Suppose you were writing a program to keep track of hundreds or even thousands of different birds in an aviary. It would take a lot of time to create all the birds, then change the properties to different values for every one. To more easily create different Bird objects, you can design your Bird constructor to accept parameters:"
      ],
      "metadata": {
        "id": "IpNOpPtQkFZl"
      }
    },
    {
      "cell_type": "code",
      "source": [
        "function Bird(name, color) {\n",
        "  this.name = name;\n",
        "  this.color = color;\n",
        "  this.numLegs = 2;\n",
        "}"
      ],
      "metadata": {
        "id": "VDuJB9mykG-m"
      },
      "execution_count": null,
      "outputs": []
    },
    {
      "cell_type": "markdown",
      "source": [
        "Then pass in the values as arguments to define each unique bird into the Bird constructor: let cardinal = new Bird(\"Bruce\", \"red\"); This gives a new instance of Bird with name and color properties set to Bruce and red, respectively. The numLegs property is still set to 2. The cardinal has these properties:"
      ],
      "metadata": {
        "id": "mzuG-eyGkIl3"
      }
    },
    {
      "cell_type": "code",
      "source": [
        "cardinal.name\n",
        "cardinal.color\n",
        "cardinal.numLegs"
      ],
      "metadata": {
        "id": "azZ0HFmpkJ-Z"
      },
      "execution_count": null,
      "outputs": []
    },
    {
      "cell_type": "markdown",
      "source": [
        "The constructor is more flexible. It's now possible to define the properties for each Bird at the time it is created, which is one way that JavaScript constructors are so useful. They group objects together based on shared characteristics and behavior and define a blueprint that automates their creation.\n",
        "\n",
        "Create another Dog constructor. This time, set it up to take the parameters name and color, and have the property numLegs fixed at 4. Then create a new Dog saved in a variable terrier. Pass it two strings as arguments for the name and color properties.\n",
        "\n"
      ],
      "metadata": {
        "id": "hWW7CbUWkLpS"
      }
    },
    {
      "cell_type": "code",
      "source": [
        "function Dog(name, color) {\n",
        "  this.name = name;\n",
        "  this.color = color;\n",
        "  this.numLegs = 4;\n",
        "}\n",
        "\n",
        "let terrier = new Dog(\"Alfred\",\"Brown\");"
      ],
      "metadata": {
        "id": "Ug38V7yWkMb9"
      },
      "execution_count": null,
      "outputs": []
    },
    {
      "cell_type": "markdown",
      "source": [
        "# Verify an Object's Constructor with instanceof\n",
        "Anytime a constructor function creates a new object, that object is said to be an instance of its constructor. JavaScript gives a convenient way to verify this with the instanceof operator. instanceof allows you to compare an object to a constructor, returning true or false based on whether or not that object was created with the constructor. Here's an example:"
      ],
      "metadata": {
        "id": "EHwSCqRFk6wP"
      }
    },
    {
      "cell_type": "code",
      "source": [
        "let Bird = function(name, color) {\n",
        "  this.name = name;\n",
        "  this.color = color;\n",
        "  this.numLegs = 2;\n",
        "}\n",
        "\n",
        "let crow = new Bird(\"Alexis\", \"black\");\n",
        "\n",
        "crow instanceof Bird;"
      ],
      "metadata": {
        "id": "ALkPj5AAk9BU"
      },
      "execution_count": null,
      "outputs": []
    },
    {
      "cell_type": "markdown",
      "source": [
        "This instanceof method would return true.\n",
        "\n",
        "If an object is created without using a constructor, instanceof will verify that it is not an instance of that constructor:"
      ],
      "metadata": {
        "id": "iIBBmhy3k_xt"
      }
    },
    {
      "cell_type": "code",
      "source": [
        "let canary = {\n",
        "  name: \"Mildred\",\n",
        "  color: \"Yellow\",\n",
        "  numLegs: 2\n",
        "};\n",
        "\n",
        "canary instanceof Bird;"
      ],
      "metadata": {
        "id": "CRXy9POYlBZS"
      },
      "execution_count": null,
      "outputs": []
    },
    {
      "cell_type": "markdown",
      "source": [
        "This instanceof method would return false.\n",
        "\n",
        "Create a new instance of the House constructor, calling it myHouse and passing a number of bedrooms. Then, use instanceof to verify that it is an instance of House."
      ],
      "metadata": {
        "id": "at5EJ4oelC_h"
      }
    },
    {
      "cell_type": "code",
      "source": [
        "function House(numBedrooms) {\n",
        "  this.numBedrooms = numBedrooms;\n",
        "}\n",
        "\n",
        "let myHouse = new House(4);\n",
        "myHouse instanceof House;"
      ],
      "metadata": {
        "id": "fUeU6k2TlEiF"
      },
      "execution_count": null,
      "outputs": []
    },
    {
      "cell_type": "markdown",
      "source": [
        "# Understand Own Properties\n",
        "In the following example, the Bird constructor defines two properties: name and numLegs:"
      ],
      "metadata": {
        "id": "RkBpTLGslG6p"
      }
    },
    {
      "cell_type": "code",
      "source": [
        "function Bird(name) {\n",
        "  this.name = name;\n",
        "  this.numLegs = 2;\n",
        "}\n",
        "\n",
        "let duck = new Bird(\"Donald\");\n",
        "let canary = new Bird(\"Tweety\");"
      ],
      "metadata": {
        "id": "8ftjcuWklwuf"
      },
      "execution_count": null,
      "outputs": []
    },
    {
      "cell_type": "markdown",
      "source": [
        "name and numLegs are called own properties, because they are defined directly on the instance object. That means that duck and canary each has its own separate copy of these properties. In fact every instance of Bird will have its own copy of these properties. The following code adds all of the own properties of duck to the array ownProps:\n",
        "\n"
      ],
      "metadata": {
        "id": "R3zQ5vzAlz8E"
      }
    },
    {
      "cell_type": "code",
      "source": [
        "let ownProps = [];\n",
        "\n",
        "for (let property in duck) {\n",
        "  if(duck.hasOwnProperty(property)) {\n",
        "    ownProps.push(property);\n",
        "  }\n",
        "}\n",
        "\n",
        "console.log(ownProps);"
      ],
      "metadata": {
        "id": "xJ_s77b3l12K"
      },
      "execution_count": null,
      "outputs": []
    },
    {
      "cell_type": "markdown",
      "source": [
        "The console would display the value [\"name\", \"numLegs\"].\n",
        "\n",
        "Add the own properties of canary to the array ownProps."
      ],
      "metadata": {
        "id": "0-zRQWTul3-n"
      }
    },
    {
      "cell_type": "code",
      "source": [
        "function Bird(name) {\n",
        "  this.name = name;\n",
        "  this.numLegs = 2;\n",
        "}\n",
        "\n",
        "let canary = new Bird(\"Tweety\");\n",
        "let ownProps = [];\n",
        "\n",
        "for(let property in canary){\n",
        "  if(canary.hasOwnProperty(property)){\n",
        "    ownProps.push(property);\n",
        "  }\n",
        "}\n",
        "\n",
        "console.log(ownProps);"
      ],
      "metadata": {
        "id": "OhIMta3el5sw"
      },
      "execution_count": null,
      "outputs": []
    },
    {
      "cell_type": "markdown",
      "source": [
        "# Use Prototype Properties to Reduce Duplicate Code\n",
        "Since numLegs will probably have the same value for all instances of Bird, you essentially have a duplicated variable numLegs inside each Bird instance.\n",
        "\n",
        "This may not be an issue when there are only two instances, but imagine if there are millions of instances. That would be a lot of duplicated variables.\n",
        "\n",
        "A better way is to use the prototype of Bird. Properties in the prototype are shared among ALL instances of Bird. Here's how to add numLegs to the Bird prototype:"
      ],
      "metadata": {
        "id": "UQOPuxj2mnKS"
      }
    },
    {
      "cell_type": "code",
      "source": [
        "Bird.prototype.numLegs = 2;"
      ],
      "metadata": {
        "id": "drhAu2QdmqNo"
      },
      "execution_count": null,
      "outputs": []
    },
    {
      "cell_type": "markdown",
      "source": [
        "Now all instances of Bird have the numLegs property."
      ],
      "metadata": {
        "id": "_tfL3FB2mrrC"
      }
    },
    {
      "cell_type": "code",
      "source": [
        "console.log(duck.numLegs);\n",
        "console.log(canary.numLegs);"
      ],
      "metadata": {
        "id": "58L3Ltiimugd"
      },
      "execution_count": null,
      "outputs": []
    },
    {
      "cell_type": "markdown",
      "source": [
        "Since all instances automatically have the properties on the prototype, think of a prototype as a \"recipe\" for creating objects. Note that the prototype for duck and canary is part of the Bird constructor as Bird.prototype.\n",
        "\n",
        "Add a numLegs property to the prototype of Dog"
      ],
      "metadata": {
        "id": "XBJs8MPrmwKa"
      }
    },
    {
      "cell_type": "code",
      "source": [
        "function Dog(name) {\n",
        "  this.name = name;\n",
        "}\n",
        "Dog.prototype.numLegs = 4;\n",
        "let beagle = new Dog(\"Snoopy\");\n",
        "console.log(beagle);\n",
        "console.log(beagle.numLegs);\n",
        "\n",
        "// { name: 'Snoopy' }\n",
        "4"
      ],
      "metadata": {
        "id": "Y7C4VtcImxyX"
      },
      "execution_count": null,
      "outputs": []
    }
  ]
}