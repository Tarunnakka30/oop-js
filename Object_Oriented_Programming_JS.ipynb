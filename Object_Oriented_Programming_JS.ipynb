{
  "nbformat": 4,
  "nbformat_minor": 0,
  "metadata": {
    "colab": {
      "provenance": [],
      "collapsed_sections": [
        "WsF5mW0pe80p",
        "Ec5m2ydxfJC1",
        "tdSGUI04fcn3",
        "l19ldoQXhaWN",
        "EMSuPJFYiPto",
        "auw8Rbuai034",
        "seMShJkJkAm8",
        "EHwSCqRFk6wP",
        "RkBpTLGslG6p"
      ],
      "authorship_tag": "ABX9TyPXh7VLT/z3rarEgpXsBlVf",
      "include_colab_link": true
    },
    "kernelspec": {
      "name": "python3",
      "display_name": "Python 3"
    },
    "language_info": {
      "name": "python"
    }
  },
  "cells": [
    {
      "cell_type": "markdown",
      "metadata": {
        "id": "view-in-github",
        "colab_type": "text"
      },
      "source": [
        "<a href=\"https://colab.research.google.com/github/Tarunnakka30/oop-js/blob/main/Object_Oriented_Programming_JS.ipynb\" target=\"_parent\"><img src=\"https://colab.research.google.com/assets/colab-badge.svg\" alt=\"Open In Colab\"/></a>"
      ]
    },
    {
      "cell_type": "markdown",
      "source": [
        "# Create a Basic JavaScript Object\n",
        "Think about things people see every day, like cars, shops, and birds. These are all objects: tangible things people can observe and interact with.\n",
        "\n",
        "What are some qualities of these objects? A car has wheels. Shops sell items. Birds have wings.\n",
        "\n",
        "These qualities, or properties, define what makes up an object. Note that similar objects share the same properties, but may have different values for those properties. For example, all cars have wheels, but not all cars have the same number of wheels.\n",
        "\n",
        "Objects in JavaScript are used to model real-world objects, giving them properties and behavior just like their real-world counterparts. Here's an example using these concepts to create a duck object:"
      ],
      "metadata": {
        "id": "WsF5mW0pe80p"
      }
    },
    {
      "cell_type": "code",
      "source": [
        "let duck = {\n",
        "  name: \"Aflac\",\n",
        "  numLegs: 2\n",
        "};"
      ],
      "metadata": {
        "id": "gPH08jeDe_Lc"
      },
      "execution_count": null,
      "outputs": []
    },
    {
      "cell_type": "markdown",
      "source": [
        "This duck object has two property/value pairs: a name of Aflac and a numLegs of 2.\n",
        "\n",
        "Create a dog object with name and numLegs properties, and set them to a string and a number, respectively."
      ],
      "metadata": {
        "id": "pJ6JqAcBfAgD"
      }
    },
    {
      "cell_type": "code",
      "source": [
        "let dog = {\n",
        "  name: \"Jim\",\n",
        "  numLegs: 2\n",
        "};\n",
        "\n",
        "console.log(dog);\n",
        "\n",
        "// { name: 'Jim', numLegs: 2 }"
      ],
      "metadata": {
        "id": "BJITotLjfCBS"
      },
      "execution_count": null,
      "outputs": []
    },
    {
      "cell_type": "markdown",
      "source": [
        "# Use Dot Notation to Access the Properties of an Object\n",
        "The last challenge created an object with various properties. Now you'll see how to access the values of those properties. Here's an example:"
      ],
      "metadata": {
        "id": "Ec5m2ydxfJC1"
      }
    },
    {
      "cell_type": "code",
      "source": [
        "let duck = {\n",
        "  name: \"Aflac\",\n",
        "  numLegs: 2\n",
        "};\n",
        "console.log(duck.name);"
      ],
      "metadata": {
        "id": "SsXxGYanfWXr"
      },
      "execution_count": null,
      "outputs": []
    },
    {
      "cell_type": "markdown",
      "source": [
        "Dot notation is used on the object name, duck, followed by the name of the property, name, to access the value of Aflac.\n",
        "\n",
        "Print both properties of the dog object to your console."
      ],
      "metadata": {
        "id": "BhVj4nAWfZE6"
      }
    },
    {
      "cell_type": "code",
      "source": [
        "let dog = {\n",
        "  name: \"Spot\",\n",
        "  numLegs: 4\n",
        "};\n",
        "// Only change code below this line\n",
        "console.log(dog.name);\n",
        "\n",
        "// Spot"
      ],
      "metadata": {
        "id": "rv4SlFDQfZlc"
      },
      "execution_count": null,
      "outputs": []
    },
    {
      "cell_type": "markdown",
      "source": [
        "# Create a Method on an Object\n",
        "Objects can have a special type of property, called a method.\n",
        "\n",
        "Methods are properties that are functions. This adds different behavior to an object. Here is the duck example with a method:"
      ],
      "metadata": {
        "id": "tdSGUI04fcn3"
      }
    },
    {
      "cell_type": "code",
      "source": [
        "let duck = {\n",
        "  name: \"Aflac\",\n",
        "  numLegs: 2,\n",
        "  sayName: function() {return \"The name of this duck is \" + duck.name + \".\";}\n",
        "};\n",
        "duck.sayName();"
      ],
      "metadata": {
        "id": "GVGg5dntgEYK"
      },
      "execution_count": null,
      "outputs": []
    },
    {
      "cell_type": "markdown",
      "source": [
        "The example adds the sayName method, which is a function that returns a sentence giving the name of the duck. Notice that the method accessed the name property in the return statement using duck.name. The next challenge will cover another way to do this.\n",
        "\n",
        "Using the dog object, give it a method called sayLegs. The method should return the sentence This dog has 4 legs."
      ],
      "metadata": {
        "id": "JWZeWznjgGbw"
      }
    },
    {
      "cell_type": "code",
      "source": [
        "let dog = {\n",
        "  name: \"Spot\",\n",
        "  numLegs: 4,\n",
        "  sayLegs: function(){\n",
        "    return \"This dog has \"+dog.numLegs+\" legs.\"\n",
        "  }\n",
        "};\n",
        "\n",
        "console.log(dog.sayLegs());\n",
        "\n",
        "// This dog has 4 legs."
      ],
      "metadata": {
        "id": "zWL9yrNjgIYT"
      },
      "execution_count": null,
      "outputs": []
    },
    {
      "cell_type": "markdown",
      "source": [
        "# Make Code More Reusable with the this Keyword\n",
        "The last challenge introduced a method to the duck object. It used duck.name dot notation to access the value for the name property within the return statement:"
      ],
      "metadata": {
        "id": "l19ldoQXhaWN"
      }
    },
    {
      "cell_type": "code",
      "source": [
        "sayName: function() {return \"The name of this duck is \" + duck.name + \".\";}"
      ],
      "metadata": {
        "id": "4c3MVxtLhcXI"
      },
      "execution_count": null,
      "outputs": []
    },
    {
      "cell_type": "markdown",
      "source": [
        "While this is a valid way to access the object's property, there is a pitfall here. If the variable name changes, any code referencing the original name would need to be updated as well. In a short object definition, it isn't a problem, but if an object has many references to its properties there is a greater chance for error.\n",
        "\n",
        "A way to avoid these issues is with the this keyword:"
      ],
      "metadata": {
        "id": "Ds4XCzZlherm"
      }
    },
    {
      "cell_type": "code",
      "source": [
        "let duck = {\n",
        "  name: \"Aflac\",\n",
        "  numLegs: 2,\n",
        "  sayName: function() {return \"The name of this duck is \" + this.name + \".\";}\n",
        "};"
      ],
      "metadata": {
        "id": "skr5v6tBhgTj"
      },
      "execution_count": null,
      "outputs": []
    },
    {
      "cell_type": "markdown",
      "source": [
        "this is a deep topic, and the above example is only one way to use it. In the current context, this refers to the object that the method is associated with: duck. If the object's name is changed to mallard, it is not necessary to find all the references to duck in the code. It makes the code reusable and easier to read.\n",
        "\n",
        "Modify the dog.sayLegs method to remove any references to dog. Use the duck example for guidance."
      ],
      "metadata": {
        "id": "dKjauN2QhjY2"
      }
    },
    {
      "cell_type": "code",
      "source": [
        "let dog = {\n",
        "  name: \"Spot\",\n",
        "  numLegs: 4,\n",
        "  sayLegs: function() {return \"This dog has \" + this.numLegs + \" legs.\";}\n",
        "};\n",
        "\n",
        "console.log(dog.sayLegs());\n",
        "\n",
        "//\n",
        "This dog has 4 legs."
      ],
      "metadata": {
        "id": "lAeMkmughlYP"
      },
      "execution_count": null,
      "outputs": []
    },
    {
      "cell_type": "markdown",
      "source": [
        "# Define a Constructor Function\n",
        "Constructors are functions that create new objects. They define properties and behaviors that will belong to the new object. Think of them as a blueprint for the creation of new objects.\n",
        "\n",
        "Here is an example of a constructor:"
      ],
      "metadata": {
        "id": "EMSuPJFYiPto"
      }
    },
    {
      "cell_type": "code",
      "source": [
        "function Bird() {\n",
        "  this.name = \"Albert\";\n",
        "  this.color = \"blue\";\n",
        "  this.numLegs = 2;\n",
        "}"
      ],
      "metadata": {
        "id": "mhckx9nOiR5-"
      },
      "execution_count": null,
      "outputs": []
    },
    {
      "cell_type": "markdown",
      "source": [
        "This constructor defines a Bird object with properties name, color, and numLegs set to Albert, blue, and 2, respectively. Constructors follow a few conventions:\n",
        "\n",
        "Constructors are defined with a capitalized name to distinguish them from other functions that are not constructors.\n",
        "Constructors use the keyword this to set properties of the object they will create. Inside the constructor, this refers to the new object it will create.\n",
        "Constructors define properties and behaviors instead of returning a value as other functions might.\n",
        "\n",
        "Create a constructor, Dog, with properties name, color, and numLegs that are set to a string, a string, and a number, respectively."
      ],
      "metadata": {
        "id": "OgUWEBZSiUtA"
      }
    },
    {
      "cell_type": "code",
      "source": [
        "function Dog(){\n",
        "  this.name = \"Spot\";\n",
        "  this.color = \"black\";\n",
        "  this.numLegs = 4;\n",
        "}"
      ],
      "metadata": {
        "id": "bLSik8zQiVT4"
      },
      "execution_count": null,
      "outputs": []
    },
    {
      "cell_type": "markdown",
      "source": [
        "# Use a Constructor to Create Objects\n",
        "Here's the Bird constructor from the previous challenge:"
      ],
      "metadata": {
        "id": "auw8Rbuai034"
      }
    },
    {
      "cell_type": "code",
      "source": [
        "function Bird() {\n",
        "  this.name = \"Albert\";\n",
        "  this.color  = \"blue\";\n",
        "  this.numLegs = 2;\n",
        "}\n",
        "\n",
        "let blueBird = new Bird();"
      ],
      "metadata": {
        "id": "KRdMn51Xi3H6"
      },
      "execution_count": null,
      "outputs": []
    },
    {
      "cell_type": "markdown",
      "source": [
        "NOTE: this inside the constructor always refers to the object being created.\n",
        "\n",
        "Notice that the new operator is used when calling a constructor. This tells JavaScript to create a new instance of Bird called blueBird. Without the new operator, this inside the constructor would not point to the newly created object, giving unexpected results. Now blueBird has all the properties defined inside the Bird constructor:"
      ],
      "metadata": {
        "id": "5gC8qBlLi5xq"
      }
    },
    {
      "cell_type": "code",
      "source": [
        "blueBird.name;\n",
        "blueBird.color;\n",
        "blueBird.numLegs;"
      ],
      "metadata": {
        "id": "ln17fkjhi7yV"
      },
      "execution_count": null,
      "outputs": []
    },
    {
      "cell_type": "markdown",
      "source": [
        "Just like any other object, its properties can be accessed and modified:"
      ],
      "metadata": {
        "id": "MvKd9kX1i9PK"
      }
    },
    {
      "cell_type": "code",
      "source": [
        "blueBird.name = 'Elvira';\n",
        "blueBird.name;"
      ],
      "metadata": {
        "id": "XtyYnydni-lo"
      },
      "execution_count": null,
      "outputs": []
    },
    {
      "cell_type": "code",
      "source": [
        "function Dog() {\n",
        "  this.name = \"Rupert\";\n",
        "  this.color = \"brown\";\n",
        "  this.numLegs = 4;\n",
        "}"
      ],
      "metadata": {
        "id": "gJEnLiOEjBNT"
      },
      "execution_count": null,
      "outputs": []
    },
    {
      "cell_type": "markdown",
      "source": [
        "\n",
        "Use the Dog constructor from the last lesson to create a new instance of Dog, assigning it to a variable hound."
      ],
      "metadata": {
        "id": "aIWoVOQOjC7L"
      }
    },
    {
      "cell_type": "code",
      "source": [
        "function Dog() {\n",
        "  this.name = \"Rupert\";\n",
        "  this.color = \"brown\";\n",
        "  this.numLegs = 4;\n",
        "}\n",
        "\n",
        "let hound = new Dog();"
      ],
      "metadata": {
        "id": "WZTLQA9ijHdU"
      },
      "execution_count": null,
      "outputs": []
    },
    {
      "cell_type": "markdown",
      "source": [
        "# Extend Constructors to Receive Arguments\n",
        "The Bird and Dog constructors from the last challenge worked well. However, notice that all Birds that are created with the Bird constructor are automatically named Albert, are blue in color, and have two legs. What if you want birds with different values for name and color? It's possible to change the properties of each bird manually but that would be a lot of work:"
      ],
      "metadata": {
        "id": "seMShJkJkAm8"
      }
    },
    {
      "cell_type": "code",
      "source": [
        "let swan = new Bird();\n",
        "swan.name = \"Carlos\";\n",
        "swan.color = \"white\";"
      ],
      "metadata": {
        "id": "7nWsElTMkC8C"
      },
      "execution_count": null,
      "outputs": []
    },
    {
      "cell_type": "markdown",
      "source": [
        "Suppose you were writing a program to keep track of hundreds or even thousands of different birds in an aviary. It would take a lot of time to create all the birds, then change the properties to different values for every one. To more easily create different Bird objects, you can design your Bird constructor to accept parameters:"
      ],
      "metadata": {
        "id": "IpNOpPtQkFZl"
      }
    },
    {
      "cell_type": "code",
      "source": [
        "function Bird(name, color) {\n",
        "  this.name = name;\n",
        "  this.color = color;\n",
        "  this.numLegs = 2;\n",
        "}"
      ],
      "metadata": {
        "id": "VDuJB9mykG-m"
      },
      "execution_count": null,
      "outputs": []
    },
    {
      "cell_type": "markdown",
      "source": [
        "Then pass in the values as arguments to define each unique bird into the Bird constructor: let cardinal = new Bird(\"Bruce\", \"red\"); This gives a new instance of Bird with name and color properties set to Bruce and red, respectively. The numLegs property is still set to 2. The cardinal has these properties:"
      ],
      "metadata": {
        "id": "mzuG-eyGkIl3"
      }
    },
    {
      "cell_type": "code",
      "source": [
        "cardinal.name\n",
        "cardinal.color\n",
        "cardinal.numLegs"
      ],
      "metadata": {
        "id": "azZ0HFmpkJ-Z"
      },
      "execution_count": null,
      "outputs": []
    },
    {
      "cell_type": "markdown",
      "source": [
        "The constructor is more flexible. It's now possible to define the properties for each Bird at the time it is created, which is one way that JavaScript constructors are so useful. They group objects together based on shared characteristics and behavior and define a blueprint that automates their creation.\n",
        "\n",
        "Create another Dog constructor. This time, set it up to take the parameters name and color, and have the property numLegs fixed at 4. Then create a new Dog saved in a variable terrier. Pass it two strings as arguments for the name and color properties.\n",
        "\n"
      ],
      "metadata": {
        "id": "hWW7CbUWkLpS"
      }
    },
    {
      "cell_type": "code",
      "source": [
        "function Dog(name, color) {\n",
        "  this.name = name;\n",
        "  this.color = color;\n",
        "  this.numLegs = 4;\n",
        "}\n",
        "\n",
        "let terrier = new Dog(\"Alfred\",\"Brown\");"
      ],
      "metadata": {
        "id": "Ug38V7yWkMb9"
      },
      "execution_count": null,
      "outputs": []
    },
    {
      "cell_type": "markdown",
      "source": [
        "# Verify an Object's Constructor with instanceof\n",
        "Anytime a constructor function creates a new object, that object is said to be an instance of its constructor. JavaScript gives a convenient way to verify this with the instanceof operator. instanceof allows you to compare an object to a constructor, returning true or false based on whether or not that object was created with the constructor. Here's an example:"
      ],
      "metadata": {
        "id": "EHwSCqRFk6wP"
      }
    },
    {
      "cell_type": "code",
      "source": [
        "let Bird = function(name, color) {\n",
        "  this.name = name;\n",
        "  this.color = color;\n",
        "  this.numLegs = 2;\n",
        "}\n",
        "\n",
        "let crow = new Bird(\"Alexis\", \"black\");\n",
        "\n",
        "crow instanceof Bird;"
      ],
      "metadata": {
        "id": "ALkPj5AAk9BU"
      },
      "execution_count": null,
      "outputs": []
    },
    {
      "cell_type": "markdown",
      "source": [
        "This instanceof method would return true.\n",
        "\n",
        "If an object is created without using a constructor, instanceof will verify that it is not an instance of that constructor:"
      ],
      "metadata": {
        "id": "iIBBmhy3k_xt"
      }
    },
    {
      "cell_type": "code",
      "source": [
        "let canary = {\n",
        "  name: \"Mildred\",\n",
        "  color: \"Yellow\",\n",
        "  numLegs: 2\n",
        "};\n",
        "\n",
        "canary instanceof Bird;"
      ],
      "metadata": {
        "id": "CRXy9POYlBZS"
      },
      "execution_count": null,
      "outputs": []
    },
    {
      "cell_type": "markdown",
      "source": [
        "This instanceof method would return false.\n",
        "\n",
        "Create a new instance of the House constructor, calling it myHouse and passing a number of bedrooms. Then, use instanceof to verify that it is an instance of House."
      ],
      "metadata": {
        "id": "at5EJ4oelC_h"
      }
    },
    {
      "cell_type": "code",
      "source": [
        "function House(numBedrooms) {\n",
        "  this.numBedrooms = numBedrooms;\n",
        "}\n",
        "\n",
        "let myHouse = new House(4);\n",
        "myHouse instanceof House;"
      ],
      "metadata": {
        "id": "fUeU6k2TlEiF"
      },
      "execution_count": null,
      "outputs": []
    },
    {
      "cell_type": "markdown",
      "source": [
        "# Understand Own Properties\n",
        "In the following example, the Bird constructor defines two properties: name and numLegs:"
      ],
      "metadata": {
        "id": "RkBpTLGslG6p"
      }
    },
    {
      "cell_type": "code",
      "source": [
        "function Bird(name) {\n",
        "  this.name = name;\n",
        "  this.numLegs = 2;\n",
        "}\n",
        "\n",
        "let duck = new Bird(\"Donald\");\n",
        "let canary = new Bird(\"Tweety\");"
      ],
      "metadata": {
        "id": "8ftjcuWklwuf"
      },
      "execution_count": null,
      "outputs": []
    },
    {
      "cell_type": "markdown",
      "source": [
        "name and numLegs are called own properties, because they are defined directly on the instance object. That means that duck and canary each has its own separate copy of these properties. In fact every instance of Bird will have its own copy of these properties. The following code adds all of the own properties of duck to the array ownProps:\n",
        "\n"
      ],
      "metadata": {
        "id": "R3zQ5vzAlz8E"
      }
    },
    {
      "cell_type": "code",
      "source": [
        "let ownProps = [];\n",
        "\n",
        "for (let property in duck) {\n",
        "  if(duck.hasOwnProperty(property)) {\n",
        "    ownProps.push(property);\n",
        "  }\n",
        "}\n",
        "\n",
        "console.log(ownProps);"
      ],
      "metadata": {
        "id": "xJ_s77b3l12K"
      },
      "execution_count": null,
      "outputs": []
    },
    {
      "cell_type": "markdown",
      "source": [
        "The console would display the value [\"name\", \"numLegs\"].\n",
        "\n",
        "Add the own properties of canary to the array ownProps."
      ],
      "metadata": {
        "id": "0-zRQWTul3-n"
      }
    },
    {
      "cell_type": "code",
      "source": [
        "function Bird(name) {\n",
        "  this.name = name;\n",
        "  this.numLegs = 2;\n",
        "}\n",
        "\n",
        "let canary = new Bird(\"Tweety\");\n",
        "let ownProps = [];\n",
        "\n",
        "for(let property in canary){\n",
        "  if(canary.hasOwnProperty(property)){\n",
        "    ownProps.push(property);\n",
        "  }\n",
        "}\n",
        "\n",
        "console.log(ownProps);"
      ],
      "metadata": {
        "id": "OhIMta3el5sw"
      },
      "execution_count": null,
      "outputs": []
    },
    {
      "cell_type": "markdown",
      "source": [
        "# Use Prototype Properties to Reduce Duplicate Code\n",
        "Since numLegs will probably have the same value for all instances of Bird, you essentially have a duplicated variable numLegs inside each Bird instance.\n",
        "\n",
        "This may not be an issue when there are only two instances, but imagine if there are millions of instances. That would be a lot of duplicated variables.\n",
        "\n",
        "A better way is to use the prototype of Bird. Properties in the prototype are shared among ALL instances of Bird. Here's how to add numLegs to the Bird prototype:"
      ],
      "metadata": {
        "id": "UQOPuxj2mnKS"
      }
    },
    {
      "cell_type": "code",
      "source": [
        "Bird.prototype.numLegs = 2;"
      ],
      "metadata": {
        "id": "drhAu2QdmqNo"
      },
      "execution_count": null,
      "outputs": []
    },
    {
      "cell_type": "markdown",
      "source": [
        "Now all instances of Bird have the numLegs property."
      ],
      "metadata": {
        "id": "_tfL3FB2mrrC"
      }
    },
    {
      "cell_type": "code",
      "source": [
        "console.log(duck.numLegs);\n",
        "console.log(canary.numLegs);"
      ],
      "metadata": {
        "id": "58L3Ltiimugd"
      },
      "execution_count": null,
      "outputs": []
    },
    {
      "cell_type": "markdown",
      "source": [
        "Since all instances automatically have the properties on the prototype, think of a prototype as a \"recipe\" for creating objects. Note that the prototype for duck and canary is part of the Bird constructor as Bird.prototype.\n",
        "\n",
        "Add a numLegs property to the prototype of Dog"
      ],
      "metadata": {
        "id": "XBJs8MPrmwKa"
      }
    },
    {
      "cell_type": "code",
      "source": [
        "function Dog(name) {\n",
        "  this.name = name;\n",
        "}\n",
        "Dog.prototype.numLegs = 4;\n",
        "let beagle = new Dog(\"Snoopy\");\n",
        "console.log(beagle);\n",
        "console.log(beagle.numLegs);\n",
        "\n",
        "// { name: 'Snoopy' }\n",
        "4"
      ],
      "metadata": {
        "id": "Y7C4VtcImxyX"
      },
      "execution_count": null,
      "outputs": []
    },
    {
      "cell_type": "markdown",
      "source": [
        "# Iterate Over All Properties\n",
        "You have now seen two kinds of properties: own properties and prototype properties. Own properties are defined directly on the object instance itself. And prototype properties are defined on the prototype."
      ],
      "metadata": {
        "id": "C_r7viLlP5yF"
      }
    },
    {
      "cell_type": "code",
      "source": [
        "function Bird(name) {\n",
        "  this.name = name;  //own property\n",
        "}\n",
        "\n",
        "Bird.prototype.numLegs = 2; // prototype property\n",
        "\n",
        "let duck = new Bird(\"Donald\");"
      ],
      "metadata": {
        "id": "6YiRH-VbQALL"
      },
      "execution_count": null,
      "outputs": []
    },
    {
      "cell_type": "markdown",
      "source": [
        "Here is how you add duck's own properties to the array ownProps and prototype properties to the array prototypeProps:"
      ],
      "metadata": {
        "id": "yFQesGW7QBkj"
      }
    },
    {
      "cell_type": "code",
      "source": [
        "let ownProps = [];\n",
        "let prototypeProps = [];\n",
        "\n",
        "for (let property in duck) {\n",
        "  if(duck.hasOwnProperty(property)) {\n",
        "    ownProps.push(property);\n",
        "  } else {\n",
        "    prototypeProps.push(property);\n",
        "  }\n",
        "}\n",
        "\n",
        "console.log(ownProps);\n",
        "console.log(prototypeProps);"
      ],
      "metadata": {
        "id": "vIsQZxgXQDOL"
      },
      "execution_count": null,
      "outputs": []
    },
    {
      "cell_type": "markdown",
      "source": [
        "console.log(ownProps) would display [\"name\"] in the console, and console.log(prototypeProps) would display [\"numLegs\"]."
      ],
      "metadata": {
        "id": "fZMMxZqfQE52"
      }
    },
    {
      "cell_type": "code",
      "source": [
        "function Dog(name) {\n",
        "  this.name = name;\n",
        "}\n",
        "\n",
        "Dog.prototype.numLegs = 4;\n",
        "\n",
        "let beagle = new Dog(\"Snoopy\");\n",
        "\n",
        "let ownProps = [];\n",
        "let prototypeProps = [];\n"
      ],
      "metadata": {
        "id": "bMK3nY67QFjR"
      },
      "execution_count": null,
      "outputs": []
    },
    {
      "cell_type": "markdown",
      "source": [
        "Add all of the own properties of beagle to the array ownProps. Add all of the prototype properties of Dog to the array prototypeProps."
      ],
      "metadata": {
        "id": "Exoi2Nl6QHct"
      }
    },
    {
      "cell_type": "code",
      "source": [
        "function Dog(name) {\n",
        "  this.name = name;\n",
        "}\n",
        "\n",
        "Dog.prototype.numLegs = 4;\n",
        "\n",
        "let beagle = new Dog(\"Snoopy\");\n",
        "\n",
        "let ownProps = [];\n",
        "let prototypeProps = [];\n",
        "\n",
        "for(let property in beagle){\n",
        "  if(Dog.hasOwnProperty(property)){\n",
        "    ownProps.push(property);\n",
        "  }\n",
        "  else{\n",
        "    prototypeProps.push(property);\n",
        "  }\n",
        "}\n",
        "\n",
        "console.log(ownProps);\n",
        "console.log(prototypeProps);\n",
        "\n",
        "// [ 'name' ]\n",
        "[ 'numLegs' ]"
      ],
      "metadata": {
        "id": "fieh8hJhQJl_"
      },
      "execution_count": null,
      "outputs": []
    },
    {
      "cell_type": "markdown",
      "source": [
        "# Understand the Constructor Property\n",
        "There is a special constructor property located on the object instances duck and beagle that were created in the previous challenges:"
      ],
      "metadata": {
        "id": "O19ZTACKR6FZ"
      }
    },
    {
      "cell_type": "code",
      "source": [
        "let duck = new Bird();\n",
        "let beagle = new Dog();\n",
        "\n",
        "console.log(duck.constructor === Bird);\n",
        "console.log(beagle.constructor === Dog);"
      ],
      "metadata": {
        "id": "nJyTA7dfR8bN"
      },
      "execution_count": null,
      "outputs": []
    },
    {
      "cell_type": "markdown",
      "source": [
        "Both of these console.log calls would display true in the console.\n",
        "\n",
        "Note that the constructor property is a reference to the constructor function that created the instance. The advantage of the constructor property is that it's possible to check for this property to find out what kind of object it is. Here's an example of how this could be used:"
      ],
      "metadata": {
        "id": "kH-vV4YsR_uC"
      }
    },
    {
      "cell_type": "code",
      "source": [
        "function joinBirdFraternity(candidate) {\n",
        "  if (candidate.constructor === Bird) {\n",
        "    return true;\n",
        "  } else {\n",
        "    return false;\n",
        "  }\n",
        "}"
      ],
      "metadata": {
        "id": "4HSvfh4uSBqB"
      },
      "execution_count": null,
      "outputs": []
    },
    {
      "cell_type": "markdown",
      "source": [
        "Note: Since the constructor property can be overwritten (which will be covered in the next two challenges) it’s generally better to use the instanceof method to check the type of an object.\n",
        "\n",
        "\n",
        "Write a joinDogFraternity function that takes a candidate parameter and, using the constructor property, return true if the candidate is a Dog, otherwise return false."
      ],
      "metadata": {
        "id": "SdM5I1ceSEFD"
      }
    },
    {
      "cell_type": "code",
      "source": [
        "function Dog(name) {\n",
        "  this.name = name;\n",
        "}\n",
        "\n",
        "// Only change code below this line\n",
        "function joinDogFraternity(candidate) {\n",
        "  if(candidate.constructor == Dog){\n",
        "    return true;\n",
        "  }\n",
        "  else{\n",
        "    return false;\n",
        "  }\n",
        "\n",
        "}"
      ],
      "metadata": {
        "id": "0vo8a7jcSEhO"
      },
      "execution_count": null,
      "outputs": []
    },
    {
      "cell_type": "markdown",
      "source": [
        "# Change the Prototype to a New Object\n",
        "Up until now you have been adding properties to the prototype individually:"
      ],
      "metadata": {
        "id": "6xzO-mn0S9M5"
      }
    },
    {
      "cell_type": "code",
      "source": [
        "Bird.prototype.numLegs = 2;"
      ],
      "metadata": {
        "id": "U-CVUnjSTAxH"
      },
      "execution_count": null,
      "outputs": []
    },
    {
      "cell_type": "markdown",
      "source": [
        "This becomes tedious after more than a few properties."
      ],
      "metadata": {
        "id": "se7Yo9QPTC0o"
      }
    },
    {
      "cell_type": "code",
      "source": [
        "Bird.prototype.eat = function() {\n",
        "  console.log(\"nom nom nom\");\n",
        "}\n",
        "\n",
        "Bird.prototype.describe = function() {\n",
        "  console.log(\"My name is \" + this.name);\n",
        "}"
      ],
      "metadata": {
        "id": "4KwF0vlqTEp0"
      },
      "execution_count": null,
      "outputs": []
    },
    {
      "cell_type": "markdown",
      "source": [
        "A more efficient way is to set the prototype to a new object that already contains the properties. This way, the properties are added all at once:\n",
        "\n"
      ],
      "metadata": {
        "id": "TZaivNCzTHKt"
      }
    },
    {
      "cell_type": "code",
      "source": [
        "Bird.prototype = {\n",
        "  numLegs: 2,\n",
        "  eat: function() {\n",
        "    console.log(\"nom nom nom\");\n",
        "  },\n",
        "  describe: function() {\n",
        "    console.log(\"My name is \" + this.name);\n",
        "  }\n",
        "};"
      ],
      "metadata": {
        "id": "uG5RvWhATI-B"
      },
      "execution_count": null,
      "outputs": []
    },
    {
      "cell_type": "markdown",
      "source": [
        "Add the property numLegs and the two methods eat() and describe() to the prototype of Dog by setting the prototype to a new object."
      ],
      "metadata": {
        "id": "-G0U91pMTLKg"
      }
    },
    {
      "cell_type": "code",
      "source": [
        "function Dog(name) {\n",
        "  this.name = name;\n",
        "}\n",
        "\n",
        "Dog.prototype = {\n",
        "  // Only change code below this line\n",
        "  numLegs: 4,\n",
        "  eat: function(){\n",
        "    console.log(\"Bon Bon Bon\");\n",
        "  },\n",
        "  describe: function(){\n",
        "    console.log(\"My Name Is: \"+this.name);\n",
        "  }\n",
        "};"
      ],
      "metadata": {
        "id": "JNTlmvJYTLon"
      },
      "execution_count": null,
      "outputs": []
    },
    {
      "cell_type": "markdown",
      "source": [
        "# Remember to Set the Constructor Property when Changing the Prototype\n",
        "There is one crucial side effect of manually setting the prototype to a new object. It erases the constructor property! This property can be used to check which constructor function created the instance, but since the property has been overwritten, it now gives false results:"
      ],
      "metadata": {
        "id": "S1PSt9HlTQtz"
      }
    },
    {
      "cell_type": "code",
      "source": [
        "duck.constructor === Bird;\n",
        "duck.constructor === Object;\n",
        "duck instanceof Bird;"
      ],
      "metadata": {
        "id": "sa8qfV9ZTT71"
      },
      "execution_count": null,
      "outputs": []
    },
    {
      "cell_type": "markdown",
      "source": [
        "In order, these expressions would evaluate to false, true, and true.\n",
        "\n",
        "To fix this, whenever a prototype is manually set to a new object, remember to define the constructor property:"
      ],
      "metadata": {
        "id": "Shb01nhhTVlF"
      }
    },
    {
      "cell_type": "code",
      "source": [
        "Bird.prototype = {\n",
        "  constructor: Bird,\n",
        "  numLegs: 2,\n",
        "  eat: function() {\n",
        "    console.log(\"nom nom nom\");\n",
        "  },\n",
        "  describe: function() {\n",
        "    console.log(\"My name is \" + this.name);\n",
        "  }\n",
        "};"
      ],
      "metadata": {
        "id": "Hg6evV-bTXDU"
      },
      "execution_count": null,
      "outputs": []
    },
    {
      "cell_type": "markdown",
      "source": [
        "Define the constructor property on the Dog prototype."
      ],
      "metadata": {
        "id": "oB2Ix8N3TY5y"
      }
    },
    {
      "cell_type": "code",
      "source": [
        "function Dog(name) {\n",
        "  this.name = name;\n",
        "}\n",
        "\n",
        "// Only change code below this line\n",
        "Dog.prototype = {\n",
        "  constructor: Dog,\n",
        "  numLegs: 4,\n",
        "  eat: function() {\n",
        "    console.log(\"nom nom nom\");\n",
        "  },\n",
        "  describe: function() {\n",
        "    console.log(\"My name is \" + this.name);\n",
        "  }\n",
        "};"
      ],
      "metadata": {
        "id": "x6RGFZBaTZN-"
      },
      "execution_count": null,
      "outputs": []
    },
    {
      "cell_type": "markdown",
      "source": [
        "# Understand Where an Object’s Prototype Comes From\n",
        "Just like people inherit genes from their parents, an object inherits its prototype directly from the constructor function that created it. For example, here the Bird constructor creates the duck object:"
      ],
      "metadata": {
        "id": "hsT_Qc1cUFIR"
      }
    },
    {
      "cell_type": "code",
      "source": [
        "function Bird(name) {\n",
        "  this.name = name;\n",
        "}\n",
        "\n",
        "let duck = new Bird(\"Donald\");"
      ],
      "metadata": {
        "id": "1PJpkUXhUI-d"
      },
      "execution_count": null,
      "outputs": []
    },
    {
      "cell_type": "markdown",
      "source": [
        "duck inherits its prototype from the Bird constructor function. You can show this relationship with the isPrototypeOf method:"
      ],
      "metadata": {
        "id": "-0J4JQTPUKTP"
      }
    },
    {
      "cell_type": "code",
      "source": [
        "Bird.prototype.isPrototypeOf(duck);"
      ],
      "metadata": {
        "id": "EdytLNAeULgU"
      },
      "execution_count": null,
      "outputs": []
    },
    {
      "cell_type": "markdown",
      "source": [
        "This would return true.\n",
        "\n",
        "Use isPrototypeOf to check the prototype of beagle."
      ],
      "metadata": {
        "id": "Ok8olyc7UNGa"
      }
    },
    {
      "cell_type": "code",
      "source": [
        "function Dog(name) {\n",
        "  this.name = name;\n",
        "}\n",
        "\n",
        "let beagle = new Dog(\"Snoopy\");\n",
        "console.log(Dog.prototype.isPrototypeOf(beagle));\n",
        "\n",
        "// true"
      ],
      "metadata": {
        "id": "td8sBwhFUO7u"
      },
      "execution_count": null,
      "outputs": []
    },
    {
      "cell_type": "markdown",
      "source": [
        "# Understand the Prototype Chain\n",
        "All objects in JavaScript (with a few exceptions) have a prototype. Also, an object’s prototype itself is an object."
      ],
      "metadata": {
        "id": "BZAArsAEUXlN"
      }
    },
    {
      "cell_type": "code",
      "source": [
        "function Bird(name) {\n",
        "  this.name = name;\n",
        "}\n",
        "\n",
        "typeof Bird.prototype;"
      ],
      "metadata": {
        "id": "2V4fYMF5UatV"
      },
      "execution_count": null,
      "outputs": []
    },
    {
      "cell_type": "markdown",
      "source": [
        "Because a prototype is an object, a prototype can have its own prototype! In this case, the prototype of Bird.prototype is Object.prototype:"
      ],
      "metadata": {
        "id": "sRdRn0jHUcao"
      }
    },
    {
      "cell_type": "code",
      "source": [
        "Object.prototype.isPrototypeOf(Bird.prototype);"
      ],
      "metadata": {
        "id": "zY3apBIWUd2X"
      },
      "execution_count": null,
      "outputs": []
    },
    {
      "cell_type": "markdown",
      "source": [
        "How is this useful? You may recall the hasOwnProperty method from a previous challenge:"
      ],
      "metadata": {
        "id": "9-0S7F3qUfvC"
      }
    },
    {
      "cell_type": "code",
      "source": [
        "let duck = new Bird(\"Donald\");\n",
        "duck.hasOwnProperty(\"name\");"
      ],
      "metadata": {
        "id": "6xqM8KTDUhAO"
      },
      "execution_count": null,
      "outputs": []
    },
    {
      "cell_type": "markdown",
      "source": [
        "The hasOwnProperty method is defined in Object.prototype, which can be accessed by Bird.prototype, which can then be accessed by duck. This is an example of the prototype chain. In this prototype chain, Bird is the supertype for duck, while duck is the subtype. Object is a supertype for both Bird and duck. Object is a supertype for all objects in JavaScript. Therefore, any object can use the hasOwnProperty method.\n",
        "\n",
        "Modify the code to show the correct prototype chain."
      ],
      "metadata": {
        "id": "izGF1pbOUitZ"
      }
    },
    {
      "cell_type": "code",
      "source": [
        "function Dog(name) {\n",
        "  this.name = name;\n",
        "}\n",
        "\n",
        "let beagle = new Dog(\"Snoopy\");\n",
        "\n",
        "Dog.prototype.isPrototypeOf(beagle);  // yields true\n",
        "\n",
        "// Fix the code below so that it evaluates to true\n",
        "console.log(Object.prototype.isPrototypeOf(Dog.prototype));"
      ],
      "metadata": {
        "id": "9tSXgsClU70n"
      },
      "execution_count": null,
      "outputs": []
    },
    {
      "cell_type": "markdown",
      "source": [
        "# Use Inheritance So You Don't Repeat Yourself\n",
        "There's a principle in programming called Don't Repeat Yourself (DRY). The reason repeated code is a problem is because any change requires fixing code in multiple places. This usually means more work for programmers and more room for errors.\n",
        "\n",
        "Notice in the example below that the describe method is shared by Bird and Dog:"
      ],
      "metadata": {
        "id": "mL_TDkHuhXwr"
      }
    },
    {
      "cell_type": "code",
      "source": [
        "Bird.prototype = {\n",
        "  constructor: Bird,\n",
        "  describe: function() {\n",
        "    console.log(\"My name is \" + this.name);\n",
        "  }\n",
        "};\n",
        "\n",
        "Dog.prototype = {\n",
        "  constructor: Dog,\n",
        "  describe: function() {\n",
        "    console.log(\"My name is \" + this.name);\n",
        "  }\n",
        "};"
      ],
      "metadata": {
        "id": "_Ti28SHEidlx"
      },
      "execution_count": null,
      "outputs": []
    },
    {
      "cell_type": "markdown",
      "source": [
        "The describe method is repeated in two places. The code can be edited to follow the DRY principle by creating a supertype (or parent) called Animal:"
      ],
      "metadata": {
        "id": "22XEApx0ifKm"
      }
    },
    {
      "cell_type": "code",
      "source": [
        "function Animal() { };\n",
        "\n",
        "Animal.prototype = {\n",
        "  constructor: Animal,\n",
        "  describe: function() {\n",
        "    console.log(\"My name is \" + this.name);\n",
        "  }\n",
        "};"
      ],
      "metadata": {
        "id": "JxVZvWEJigfQ"
      },
      "execution_count": null,
      "outputs": []
    },
    {
      "cell_type": "markdown",
      "source": [
        "Since Animal includes the describe method, you can remove it from Bird and Dog:"
      ],
      "metadata": {
        "id": "lHZULFE_ih-9"
      }
    },
    {
      "cell_type": "code",
      "source": [
        "Bird.prototype = {\n",
        "  constructor: Bird\n",
        "};\n",
        "\n",
        "Dog.prototype = {\n",
        "  constructor: Dog\n",
        "};\n"
      ],
      "metadata": {
        "id": "e_R_2WfdijgP"
      },
      "execution_count": null,
      "outputs": []
    },
    {
      "cell_type": "markdown",
      "source": [
        "The eat method is repeated in both Cat and Bear. Edit the code in the spirit of DRY by moving the eat method to the Animal supertype.\n",
        "\n"
      ],
      "metadata": {
        "id": "lBXQQvcYilBD"
      }
    },
    {
      "cell_type": "code",
      "source": [
        "function Cat(name) {\n",
        "  this.name = name;\n",
        "}\n",
        "\n",
        "Cat.prototype = {\n",
        "  constructor: Cat,\n",
        "};\n",
        "\n",
        "function Bear(name) {\n",
        "  this.name = name;\n",
        "}\n",
        "\n",
        "Bear.prototype = {\n",
        "  constructor: Bear,\n",
        "};\n",
        "\n",
        "function Animal() { }\n",
        "\n",
        "Animal.prototype = {\n",
        "  constructor: Animal,\n",
        "  eat: function(){\n",
        "    console.log(\"nom nom nom\")\n",
        "  }\n",
        "\n",
        "};"
      ],
      "metadata": {
        "id": "Q7Xy5fLKilyX"
      },
      "execution_count": null,
      "outputs": []
    },
    {
      "cell_type": "markdown",
      "source": [
        "# Inherit Behaviors from a Supertype\n",
        "In the previous challenge, you created a supertype called Animal that defined behaviors shared by all animals:"
      ],
      "metadata": {
        "id": "wpSkSYxRiw75"
      }
    },
    {
      "cell_type": "code",
      "source": [
        "function Animal() { }\n",
        "Animal.prototype.eat = function() {\n",
        "  console.log(\"nom nom nom\");\n",
        "};"
      ],
      "metadata": {
        "id": "vFex1Whjjt1j"
      },
      "execution_count": null,
      "outputs": []
    },
    {
      "cell_type": "markdown",
      "source": [
        "This and the next challenge will cover how to reuse the methods of Animal inside Bird and Dog without defining them again. It uses a technique called inheritance. This challenge covers the first step: make an instance of the supertype (or parent). You already know one way to create an instance of Animal using the new operator:"
      ],
      "metadata": {
        "id": "T6gOaGjDju_t"
      }
    },
    {
      "cell_type": "code",
      "source": [
        "let animal = new Animal();"
      ],
      "metadata": {
        "id": "xlscPTQDjxfD"
      },
      "execution_count": null,
      "outputs": []
    },
    {
      "cell_type": "markdown",
      "source": [
        "There are some disadvantages when using this syntax for inheritance, which are too complex for the scope of this challenge. Instead, here's an alternative approach without those disadvantages:"
      ],
      "metadata": {
        "id": "O0rARH80jy9r"
      }
    },
    {
      "cell_type": "code",
      "source": [
        "let animal = Object.create(Animal.prototype);"
      ],
      "metadata": {
        "id": "ApiZxnTNj0bO"
      },
      "execution_count": null,
      "outputs": []
    },
    {
      "cell_type": "markdown",
      "source": [
        "Object.create(obj) creates a new object, and sets obj as the new object's prototype. Recall that the prototype is like the \"recipe\" for creating an object. By setting the prototype of animal to be the prototype of Animal, you are effectively giving the animal instance the same \"recipe\" as any other instance of Animal."
      ],
      "metadata": {
        "id": "DVLAVx1gj2Yv"
      }
    },
    {
      "cell_type": "code",
      "source": [
        "animal.eat();\n",
        "animal instanceof Animal;"
      ],
      "metadata": {
        "id": "JGo_H2Q8j34m"
      },
      "execution_count": null,
      "outputs": []
    },
    {
      "cell_type": "markdown",
      "source": [
        "The instanceof method here would return true.\n",
        "\n"
      ],
      "metadata": {
        "id": "zQ8H04NJj5VS"
      }
    },
    {
      "cell_type": "code",
      "source": [
        "function Animal() { }\n",
        "\n",
        "Animal.prototype = {\n",
        "  constructor: Animal,\n",
        "  eat: function() {\n",
        "    console.log(\"nom nom nom\");\n",
        "  }\n",
        "};\n",
        "\n",
        "\n",
        "let duck;\n",
        "let beagle;"
      ],
      "metadata": {
        "id": "KCXJiX62j_vY"
      },
      "execution_count": null,
      "outputs": []
    },
    {
      "cell_type": "markdown",
      "source": [
        "Use Object.create to make two instances of Animal named duck and beagle."
      ],
      "metadata": {
        "id": "M50OljPfkINl"
      }
    },
    {
      "cell_type": "code",
      "source": [
        "function Animal() { }\n",
        "\n",
        "Animal.prototype = {\n",
        "  constructor: Animal,\n",
        "  eat: function() {\n",
        "    console.log(\"nom nom nom\");\n",
        "  }\n",
        "};\n",
        "\n",
        "let duck = Object.create(Animal.prototype);\n",
        "let beagle = Object.create(Animal.prototype);"
      ],
      "metadata": {
        "id": "s3Pc8InQj57h"
      },
      "execution_count": null,
      "outputs": []
    },
    {
      "cell_type": "markdown",
      "source": [
        "# Set the Child's Prototype to an Instance of the Parent\n",
        "In the previous challenge you saw the first step for inheriting behavior from the supertype (or parent) Animal: making a new instance of Animal.\n",
        "\n",
        "This challenge covers the next step: set the prototype of the subtype (or child)—in this case, Bird—to be an instance of Animal."
      ],
      "metadata": {
        "id": "Wm-zAbltkgpr"
      }
    },
    {
      "cell_type": "code",
      "source": [
        "Bird.prototype = Object.create(Animal.prototype);"
      ],
      "metadata": {
        "id": "cqdqugHwkjjr"
      },
      "execution_count": null,
      "outputs": []
    },
    {
      "cell_type": "markdown",
      "source": [
        "Remember that the prototype is like the \"recipe\" for creating an object. In a way, the recipe for Bird now includes all the key \"ingredients\" from Animal."
      ],
      "metadata": {
        "id": "6JGFV2pVkmBA"
      }
    },
    {
      "cell_type": "code",
      "source": [
        "let duck = new Bird(\"Donald\");\n",
        "duck.eat();"
      ],
      "metadata": {
        "id": "NWzRIsX-knU3"
      },
      "execution_count": null,
      "outputs": []
    },
    {
      "cell_type": "markdown",
      "source": [
        "duck inherits all of Animal's properties, including the eat method."
      ],
      "metadata": {
        "id": "B8XWvPILkpCO"
      }
    },
    {
      "cell_type": "code",
      "source": [
        "function Animal() { }\n",
        "\n",
        "Animal.prototype = {\n",
        "  constructor: Animal,\n",
        "  eat: function() {\n",
        "    console.log(\"nom nom nom\");\n",
        "  }\n",
        "};\n",
        "\n",
        "function Dog() { }\n",
        "\n",
        "// Only change code below this line\n",
        "\n",
        "\n",
        "let beagle = new Dog();"
      ],
      "metadata": {
        "id": "uA0_jXOPkqnP"
      },
      "execution_count": null,
      "outputs": []
    },
    {
      "cell_type": "markdown",
      "source": [
        "Modify the code so that instances of Dog inherit from Animal."
      ],
      "metadata": {
        "id": "lHqdYcpLkrEM"
      }
    },
    {
      "cell_type": "code",
      "source": [
        "function Animal() { }\n",
        "\n",
        "Animal.prototype = {\n",
        "  constructor: Animal,\n",
        "  eat: function() {\n",
        "    console.log(\"nom nom nom\");\n",
        "  }\n",
        "};\n",
        "\n",
        "function Dog() { }\n",
        "\n",
        "// Only change code below this line\n",
        "Dog.prototype = Object.create(Animal.prototype);\n",
        "\n",
        "let beagle = new Dog();\n",
        "beagle.eat();\n",
        "\n",
        "// nom nom nom"
      ],
      "metadata": {
        "id": "9BBnLHlhksaW"
      },
      "execution_count": null,
      "outputs": []
    },
    {
      "cell_type": "markdown",
      "source": [
        "# Reset an Inherited Constructor Property\n",
        "When an object inherits its prototype from another object, it also inherits the supertype's constructor property.\n",
        "\n",
        "Here's an example:"
      ],
      "metadata": {
        "id": "DsYhdfoVl-N4"
      }
    },
    {
      "cell_type": "code",
      "source": [
        "function Bird() { }\n",
        "Bird.prototype = Object.create(Animal.prototype);\n",
        "let duck = new Bird();\n",
        "duck.constructor"
      ],
      "metadata": {
        "id": "nTtojeLQmAeh"
      },
      "execution_count": null,
      "outputs": []
    },
    {
      "cell_type": "markdown",
      "source": [
        "But duck and all instances of Bird should show that they were constructed by Bird and not Animal. To do so, you can manually set the constructor property of Bird to the Bird object:"
      ],
      "metadata": {
        "id": "We5dsvCUmEsz"
      }
    },
    {
      "cell_type": "code",
      "source": [
        "Bird.prototype.constructor = Bird;\n",
        "duck.constructor"
      ],
      "metadata": {
        "id": "yg6jpiGAmHKn"
      },
      "execution_count": null,
      "outputs": []
    },
    {
      "cell_type": "code",
      "source": [
        "function Animal() { }\n",
        "function Bird() { }\n",
        "function Dog() { }\n",
        "\n",
        "Bird.prototype = Object.create(Animal.prototype);\n",
        "Dog.prototype = Object.create(Animal.prototype);\n",
        "\n",
        "// Only change code below this line\n",
        "\n",
        "let duck = new Bird();\n",
        "let beagle = new Dog();"
      ],
      "metadata": {
        "id": "7-t_-8sImMtB"
      },
      "execution_count": null,
      "outputs": []
    },
    {
      "cell_type": "markdown",
      "source": [
        "Fix the code so duck.constructor and beagle.constructor return their respective constructors."
      ],
      "metadata": {
        "id": "-POn-BNMmPtH"
      }
    },
    {
      "cell_type": "code",
      "source": [
        "function Animal() { }\n",
        "function Bird() { }\n",
        "function Dog() { }\n",
        "\n",
        "Bird.prototype = Object.create(Animal.prototype);\n",
        "Dog.prototype = Object.create(Animal.prototype);\n",
        "\n",
        "// Only change code below this line\n",
        "Animal.prototype.constructor = Animal;\n",
        "Bird.prototype.constructor = Bird;\n",
        "Dog.prototype.constructor = Dog;\n",
        "\n",
        "let duck = new Bird();\n",
        "let beagle = new Dog();\n"
      ],
      "metadata": {
        "id": "5dkiWuYomRV4"
      },
      "execution_count": null,
      "outputs": []
    },
    {
      "cell_type": "markdown",
      "source": [
        "# Add Methods After Inheritance\n",
        "A constructor function that inherits its prototype object from a supertype constructor function can still have its own methods in addition to inherited methods.\n",
        "\n",
        "For example, Bird is a constructor that inherits its prototype from Animal:"
      ],
      "metadata": {
        "id": "vV57Rk8XmV2j"
      }
    },
    {
      "cell_type": "code",
      "source": [
        "function Animal() { }\n",
        "Animal.prototype.eat = function() {\n",
        "  console.log(\"nom nom nom\");\n",
        "};\n",
        "function Bird() { }\n",
        "Bird.prototype = Object.create(Animal.prototype);\n",
        "Bird.prototype.constructor = Bird;"
      ],
      "metadata": {
        "id": "NahC5IN-nNHZ"
      },
      "execution_count": null,
      "outputs": []
    },
    {
      "cell_type": "markdown",
      "source": [
        "In addition to what is inherited from Animal, you want to add behavior that is unique to Bird objects. Here, Bird will get a fly() function. Functions are added to Bird's prototype the same way as any constructor function:"
      ],
      "metadata": {
        "id": "ZyAe6d5ZnQXJ"
      }
    },
    {
      "cell_type": "code",
      "source": [
        "Bird.prototype.fly = function() {\n",
        "  console.log(\"I'm flying!\");\n",
        "};"
      ],
      "metadata": {
        "id": "Jm3HkthwnRr5"
      },
      "execution_count": null,
      "outputs": []
    },
    {
      "cell_type": "markdown",
      "source": [
        "Now instances of Bird will have both eat() and fly() methods:"
      ],
      "metadata": {
        "id": "D73TyQXqnTFt"
      }
    },
    {
      "cell_type": "code",
      "source": [
        "let duck = new Bird();\n",
        "duck.eat();\n",
        "duck.fly();"
      ],
      "metadata": {
        "id": "dnF7pTl-nUli"
      },
      "execution_count": null,
      "outputs": []
    },
    {
      "cell_type": "markdown",
      "source": [
        "duck.eat() would display the string nom nom nom in the console, and duck.fly() would display the string I'm flying!."
      ],
      "metadata": {
        "id": "qHxeI10PnV6C"
      }
    },
    {
      "cell_type": "code",
      "source": [
        "function Animal() { }\n",
        "Animal.prototype.eat = function() { console.log(\"nom nom nom\"); };\n",
        "\n",
        "function Dog() { }\n",
        "\n",
        "let beagle = new Dog();"
      ],
      "metadata": {
        "id": "_1ln6b5cnYR6"
      },
      "execution_count": null,
      "outputs": []
    },
    {
      "cell_type": "markdown",
      "source": [
        "Add all necessary code so the Dog object inherits from Animal and the Dog's prototype constructor is set to Dog. Then add a bark() method to the Dog object so that beagle can both eat() and bark(). The bark() method should print Woof! to the console."
      ],
      "metadata": {
        "id": "I2cN6OQBnbh9"
      }
    },
    {
      "cell_type": "code",
      "source": [
        "function Animal() { }\n",
        "Animal.prototype.eat = function() { console.log(\"nom nom nom\"); };\n",
        "\n",
        "function Dog() { }\n",
        "\n",
        "// Only change code below this line\n",
        "Dog.prototype = Object.create(Animal.prototype);\n",
        "Dog.prototype.constructor = Dog;\n",
        "\n",
        "Dog.prototype.bark = function(){\n",
        "  console .log(\"Woof Woof!\");\n",
        "}\n",
        "// Only change code above this line\n",
        "\n",
        "let beagle = new Dog();\n",
        "beagle.eat();\n",
        "beagle.bark();\n",
        "\n",
        "// nom nom nom\n",
        "   Woof Woof!"
      ],
      "metadata": {
        "id": "5a1MrFgCncDD"
      },
      "execution_count": null,
      "outputs": []
    },
    {
      "cell_type": "markdown",
      "source": [
        "# Override Inherited Methods\n",
        "In previous lessons, you learned that an object can inherit its behavior (methods) from another object by referencing its prototype object:"
      ],
      "metadata": {
        "id": "CFrldjbYsEZT"
      }
    },
    {
      "cell_type": "code",
      "source": [
        "ChildObject.prototype = Object.create(ParentObject.prototype);"
      ],
      "metadata": {
        "id": "Msckyp4dsH8L"
      },
      "execution_count": null,
      "outputs": []
    },
    {
      "cell_type": "markdown",
      "source": [
        "Then the ChildObject received its own methods by chaining them onto its prototype:"
      ],
      "metadata": {
        "id": "y8sL-5HosJjR"
      }
    },
    {
      "cell_type": "code",
      "source": [
        "ChildObject.prototype.methodName = function() {...};"
      ],
      "metadata": {
        "id": "43bDY7r1sLdE"
      },
      "execution_count": null,
      "outputs": []
    },
    {
      "cell_type": "markdown",
      "source": [
        "It's possible to override an inherited method. It's done the same way - by adding a method to ChildObject.prototype using the same method name as the one to override. Here's an example of Bird overriding the eat() method inherited from Animal:"
      ],
      "metadata": {
        "id": "Y2vbn9OesM8y"
      }
    },
    {
      "cell_type": "code",
      "source": [
        "function Animal() { }\n",
        "Animal.prototype.eat = function() {\n",
        "  return \"nom nom nom\";\n",
        "};\n",
        "function Bird() { }\n",
        "\n",
        "Bird.prototype = Object.create(Animal.prototype);\n",
        "\n",
        "Bird.prototype.eat = function() {\n",
        "  return \"peck peck peck\";\n",
        "};"
      ],
      "metadata": {
        "id": "-u_uVneZsOQg"
      },
      "execution_count": null,
      "outputs": []
    },
    {
      "cell_type": "markdown",
      "source": [
        "If you have an instance let duck = new Bird(); and you call duck.eat(), this is how JavaScript looks for the method on the prototype chain of duck:\n",
        "\n",
        "1. duck => Is eat() defined here? No.\n",
        "2. Bird => Is eat() defined here? => Yes. Execute it and stop searching.\n",
        "3. Animal => eat() is also defined, but JavaScript stopped searching before reaching this level.\n",
        "4. Object => JavaScript stopped searching before reaching this level."
      ],
      "metadata": {
        "id": "E7VRDTkDsQRW"
      }
    },
    {
      "cell_type": "code",
      "source": [
        "function Bird() { }\n",
        "\n",
        "Bird.prototype.fly = function() { return \"I am flying!\"; };\n",
        "\n",
        "function Penguin() { }\n",
        "Penguin.prototype = Object.create(Bird.prototype);\n",
        "Penguin.prototype.constructor = Penguin;\n",
        "\n",
        "let penguin = new Penguin();\n",
        "console.log(penguin.fly());\n",
        "\n",
        "// I am flying!"
      ],
      "metadata": {
        "id": "OqZHAYS1sY0a"
      },
      "execution_count": null,
      "outputs": []
    },
    {
      "cell_type": "markdown",
      "source": [
        "Override the fly() method for Penguin so that it returns the string Alas, this is a flightless bird."
      ],
      "metadata": {
        "id": "iR-3OSNGsde2"
      }
    },
    {
      "cell_type": "code",
      "source": [
        "function Bird() { }\n",
        "\n",
        "Bird.prototype.fly = function() { return \"I am flying!\"; };\n",
        "\n",
        "function Penguin() { }\n",
        "Penguin.prototype = Object.create(Bird.prototype);\n",
        "Penguin.prototype.constructor = Penguin;\n",
        "\n",
        "penguin.prototype.fly = function(){\n",
        "  return \"Alas, this is a flightless bird.\";\n",
        "}\n",
        "\n",
        "let penguin = new Penguin();\n",
        "console.log(penguin.fly());\n",
        "\n",
        "// Alas, this is a flightless bird."
      ],
      "metadata": {
        "id": "UuZMefbcsfTJ"
      },
      "execution_count": null,
      "outputs": []
    },
    {
      "cell_type": "markdown",
      "source": [
        "# Use a Mixin to Add Common Behavior Between Unrelated Objects\n",
        "As you have seen, behavior is shared through inheritance. However, there are cases when inheritance is not the best solution. Inheritance does not work well for unrelated objects like Bird and Airplane. They can both fly, but a Bird is not a type of Airplane and vice versa.\n",
        "\n",
        "For unrelated objects, it's better to use mixins. A mixin allows other objects to use a collection of functions."
      ],
      "metadata": {
        "id": "2tH7pzJ1t34c"
      }
    },
    {
      "cell_type": "code",
      "source": [
        "let flyMixin = function(obj) {\n",
        "  obj.fly = function() {\n",
        "    console.log(\"Flying, wooosh!\");\n",
        "  }\n",
        "};"
      ],
      "metadata": {
        "id": "DqXtLfXit7b1"
      },
      "execution_count": null,
      "outputs": []
    },
    {
      "cell_type": "markdown",
      "source": [
        "The flyMixin takes any object and gives it the fly method."
      ],
      "metadata": {
        "id": "R3nV8g8Rt87C"
      }
    },
    {
      "cell_type": "code",
      "source": [
        "let bird = {\n",
        "  name: \"Donald\",\n",
        "  numLegs: 2\n",
        "};\n",
        "\n",
        "let plane = {\n",
        "  model: \"777\",\n",
        "  numPassengers: 524\n",
        "};\n",
        "\n",
        "flyMixin(bird);\n",
        "flyMixin(plane);"
      ],
      "metadata": {
        "id": "blfUtydnt-sv"
      },
      "execution_count": null,
      "outputs": []
    },
    {
      "cell_type": "markdown",
      "source": [
        "Here bird and plane are passed into flyMixin, which then assigns the fly function to each object. Now bird and plane can both fly:"
      ],
      "metadata": {
        "id": "gx-0USn8uAF5"
      }
    },
    {
      "cell_type": "code",
      "source": [
        "bird.fly();\n",
        "plane.fly();"
      ],
      "metadata": {
        "id": "VYqsZEaeuBVo"
      },
      "execution_count": null,
      "outputs": []
    },
    {
      "cell_type": "markdown",
      "source": [
        "The console would display the string Flying, wooosh! twice, once for each .fly() call.\n",
        "\n",
        "Note how the mixin allows for the same fly method to be reused by unrelated objects bird and plane."
      ],
      "metadata": {
        "id": "H-qMlXjauC03"
      }
    },
    {
      "cell_type": "code",
      "source": [
        "let bird = {\n",
        "  name: \"Donald\",\n",
        "  numLegs: 2\n",
        "};\n",
        "\n",
        "let boat = {\n",
        "  name: \"Warrior\",\n",
        "  type: \"race-boat\"\n",
        "};\n"
      ],
      "metadata": {
        "id": "1e35C1ExuFXa"
      },
      "execution_count": null,
      "outputs": []
    },
    {
      "cell_type": "markdown",
      "source": [
        "Create a mixin named glideMixin that defines a method named glide. Then use the glideMixin to give both bird and boat the ability to glide."
      ],
      "metadata": {
        "id": "voPG6kjZuHFh"
      }
    },
    {
      "cell_type": "code",
      "source": [
        "let bird = {\n",
        "  name: \"Donald\",\n",
        "  numLegs: 2\n",
        "};\n",
        "\n",
        "let boat = {\n",
        "  name: \"Warrior\",\n",
        "  type: \"race-boat\"\n",
        "};\n",
        "\n",
        "let glideMixin = function(obj){\n",
        "  obj.glide = function() {\n",
        "    console.log(\"Glide!\");\n",
        "  }\n",
        "}\n",
        "\n",
        "glideMixin(bird);\n",
        "glideMixin(boat);\n",
        "\n",
        "bird.glide();\n",
        "boat.glide();\n",
        "\n",
        "// Glide!\n",
        "   Glide!"
      ],
      "metadata": {
        "id": "xUZZxLvpuHn3"
      },
      "execution_count": null,
      "outputs": []
    },
    {
      "cell_type": "markdown",
      "source": [
        "# Use Closure to Protect Properties Within an Object from Being Modified Externally\n",
        "In the previous challenge, bird had a public property name. It is considered public because it can be accessed and changed outside of bird's definition."
      ],
      "metadata": {
        "id": "ZEYan0DsvKFY"
      }
    },
    {
      "cell_type": "code",
      "source": [
        "bird.name = \"Duffy\";"
      ],
      "metadata": {
        "id": "0IGmEuMSvNr5"
      },
      "execution_count": null,
      "outputs": []
    },
    {
      "cell_type": "markdown",
      "source": [
        "Therefore, any part of your code can easily change the name of bird to any value. Think about things like passwords and bank accounts being easily changeable by any part of your codebase. That could cause a lot of issues.\n",
        "\n",
        "The simplest way to make this public property private is by creating a variable within the constructor function. This changes the scope of that variable to be within the constructor function versus available globally. This way, the variable can only be accessed and changed by methods also within the constructor function."
      ],
      "metadata": {
        "id": "cXP4Jsl-vPJL"
      }
    },
    {
      "cell_type": "code",
      "source": [
        "function Bird() {\n",
        "  let hatchedEgg = 10;\n",
        "\n",
        "  this.getHatchedEggCount = function() {\n",
        "    return hatchedEgg;\n",
        "  };\n",
        "}\n",
        "let ducky = new Bird();\n",
        "ducky.getHatchedEggCount();"
      ],
      "metadata": {
        "id": "foz-HOUxvQfY"
      },
      "execution_count": null,
      "outputs": []
    },
    {
      "cell_type": "markdown",
      "source": [
        "Here getHatchedEggCount is a privileged method, because it has access to the private variable hatchedEgg. This is possible because hatchedEgg is declared in the same context as getHatchedEggCount. In JavaScript, a function always has access to the context in which it was created. This is called closure."
      ],
      "metadata": {
        "id": "si3sVadovTHa"
      }
    },
    {
      "cell_type": "markdown",
      "source": [
        "Change how weight is declared in the Bird function so it is a private variable. Then, create a method getWeight that returns the value of weight 15."
      ],
      "metadata": {
        "id": "QClMCtf5vX1h"
      }
    },
    {
      "cell_type": "code",
      "source": [
        "function Bird() {\n",
        "  let weight = 15;\n",
        "\n",
        "  this.getWeight = function(){\n",
        "    return weight;\n",
        "  };\n",
        "\n",
        "}\n",
        "let duck = new Bird();\n",
        "console.log(duck.getWeight());\n",
        "\n",
        "// 15"
      ],
      "metadata": {
        "id": "Ac26hxn5vUmr"
      },
      "execution_count": null,
      "outputs": []
    },
    {
      "cell_type": "markdown",
      "source": [
        "# Understand the Immediately Invoked Function Expression (IIFE)\n",
        "A common pattern in JavaScript is to execute a function as soon as it is declared:"
      ],
      "metadata": {
        "id": "n8eWV7xOv0aP"
      }
    },
    {
      "cell_type": "code",
      "source": [
        "(function () {\n",
        "  console.log(\"Chirp, chirp!\");\n",
        "})();"
      ],
      "metadata": {
        "id": "64KzLXN-v2sL"
      },
      "execution_count": null,
      "outputs": []
    },
    {
      "cell_type": "markdown",
      "source": [
        "This is an anonymous function expression that executes right away, and outputs Chirp, chirp! immediately.\n",
        "\n",
        "Note that the function has no name and is not stored in a variable. The two parentheses () at the end of the function expression cause it to be immediately executed or invoked. This pattern is known as an immediately invoked function expression or IIFE."
      ],
      "metadata": {
        "id": "JaXqm7jav5ND"
      }
    },
    {
      "cell_type": "code",
      "source": [
        "function makeNest() {\n",
        "  console.log(\"A cozy nest is ready\");\n",
        "}\n",
        "\n",
        "makeNest();"
      ],
      "metadata": {
        "id": "xwzi1Cfwv_oE"
      },
      "execution_count": null,
      "outputs": []
    },
    {
      "cell_type": "markdown",
      "source": [
        "Rewrite the function makeNest and remove its call so instead it's an anonymous immediately invoked function expression (IIFE)."
      ],
      "metadata": {
        "id": "o9MOYFN2wBgc"
      }
    },
    {
      "cell_type": "code",
      "source": [
        "(function () {\n",
        "  console.log(\"A cozy nest is ready\");\n",
        "}) ();\n",
        "\n",
        "// A cozy nest is ready"
      ],
      "metadata": {
        "id": "JzIn7h4nwCGG"
      },
      "execution_count": null,
      "outputs": []
    },
    {
      "cell_type": "markdown",
      "source": [
        "# Use an IIFE to Create a Module\n",
        "An immediately invoked function expression (IIFE) is often used to group related functionality into a single object or module. For example, an earlier challenge defined two mixins:"
      ],
      "metadata": {
        "id": "x9B1Z3PzwaO1"
      }
    },
    {
      "cell_type": "code",
      "source": [
        "function glideMixin(obj) {\n",
        "  obj.glide = function() {\n",
        "    console.log(\"Gliding on the water\");\n",
        "  };\n",
        "}\n",
        "function flyMixin(obj) {\n",
        "  obj.fly = function() {\n",
        "    console.log(\"Flying, wooosh!\");\n",
        "  };\n",
        "}"
      ],
      "metadata": {
        "id": "z_vg1t01wcH9"
      },
      "execution_count": null,
      "outputs": []
    },
    {
      "cell_type": "markdown",
      "source": [
        "We can group these mixins into a module as follows:"
      ],
      "metadata": {
        "id": "c82EDsoCwe5Y"
      }
    },
    {
      "cell_type": "code",
      "source": [
        "let motionModule = (function () {\n",
        "  return {\n",
        "    glideMixin: function(obj) {\n",
        "      obj.glide = function() {\n",
        "        console.log(\"Gliding on the water\");\n",
        "      };\n",
        "    },\n",
        "    flyMixin: function(obj) {\n",
        "      obj.fly = function() {\n",
        "        console.log(\"Flying, wooosh!\");\n",
        "      };\n",
        "    }\n",
        "  }\n",
        "})();"
      ],
      "metadata": {
        "id": "7hls_rZbwgxy"
      },
      "execution_count": null,
      "outputs": []
    },
    {
      "cell_type": "markdown",
      "source": [
        "Note that you have an immediately invoked function expression (IIFE) that returns an object motionModule. This returned object contains all of the mixin behaviors as properties of the object. The advantage of the module pattern is that all of the motion behaviors can be packaged into a single object that can then be used by other parts of your code. Here is an example using it:"
      ],
      "metadata": {
        "id": "8f-KREMwwiZA"
      }
    },
    {
      "cell_type": "code",
      "source": [
        "motionModule.glideMixin(duck);\n",
        "duck.glide();"
      ],
      "metadata": {
        "id": "my2S4CO9wjqN"
      },
      "execution_count": null,
      "outputs": []
    },
    {
      "cell_type": "code",
      "source": [
        "let isCuteMixin = function(obj) {\n",
        "  obj.isCute = function() {\n",
        "    return true;\n",
        "  };\n",
        "};\n",
        "let singMixin = function(obj) {\n",
        "  obj.sing = function() {\n",
        "    console.log(\"Singing to an awesome tune\");\n",
        "  };\n",
        "};"
      ],
      "metadata": {
        "id": "lvFqmkm3wkFs"
      },
      "execution_count": null,
      "outputs": []
    },
    {
      "cell_type": "markdown",
      "source": [
        "Create a module named funModule to wrap the two mixins isCuteMixin and singMixin. funModule should return an object."
      ],
      "metadata": {
        "id": "fR9rFUbuwmK9"
      }
    },
    {
      "cell_type": "code",
      "source": [
        "let funModule = (function() {\n",
        "  return {\n",
        "    isCuteMixin: function(obj) {\n",
        "      obj.isCute = function() {\n",
        "        return true;\n",
        "      };\n",
        "    },\n",
        "    singMixin: function(obj) {\n",
        "      obj.sing = function() {\n",
        "        console.log(\"Singing to an awesome tune\");\n",
        "      };\n",
        "    }\n",
        "  };\n",
        "})();"
      ],
      "metadata": {
        "id": "-bi3HnfEwmp0"
      },
      "execution_count": null,
      "outputs": []
    }
  ]
}